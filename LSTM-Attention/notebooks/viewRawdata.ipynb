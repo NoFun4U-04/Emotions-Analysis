{
 "cells": [
  {
   "cell_type": "code",
   "execution_count": 15,
   "id": "3e22eae8",
   "metadata": {},
   "outputs": [],
   "source": [
    "import sys\n",
    "import os\n",
    "\n",
    "# Add project root to path\n",
    "project_root = os.path.abspath(os.path.join(os.getcwd(), '..'))\n",
    "if project_root not in sys.path:\n",
    "    sys.path.append(project_root)\n",
    "\n",
    "import pandas as pd\n",
    "import numpy as np\n",
    "import matplotlib.pyplot as plt\n",
    "import seaborn as sns\n",
    "from config.config import get_config\n",
    "\n",
    "# Get configuration\n",
    "config = get_config()"
   ]
  },
  {
   "cell_type": "code",
   "execution_count": 16,
   "id": "a2eaad11",
   "metadata": {},
   "outputs": [],
   "source": [
    "try:\n",
    "    train_path = os.path.join(config.paths.raw_data_dir, 'train_nor_811.xlsx')\n",
    "    if not os.path.exists(train_path):\n",
    "        raise FileNotFoundError(f\"Training file not found at: {train_path}\")\n",
    "    \n",
    "    df_train = pd.read_excel(train_path)\n",
    "except Exception as e:\n",
    "    print(f\"Error loading data: {str(e)}\")"
   ]
  },
  {
   "cell_type": "code",
   "execution_count": 6,
   "id": "55dd6c70",
   "metadata": {},
   "outputs": [
    {
     "data": {
      "text/html": [
       "<div>\n",
       "<style scoped>\n",
       "    .dataframe tbody tr th:only-of-type {\n",
       "        vertical-align: middle;\n",
       "    }\n",
       "\n",
       "    .dataframe tbody tr th {\n",
       "        vertical-align: top;\n",
       "    }\n",
       "\n",
       "    .dataframe thead th {\n",
       "        text-align: right;\n",
       "    }\n",
       "</style>\n",
       "<table border=\"1\" class=\"dataframe\">\n",
       "  <thead>\n",
       "    <tr style=\"text-align: right;\">\n",
       "      <th></th>\n",
       "      <th>Unnamed: 0</th>\n",
       "      <th>Emotion</th>\n",
       "      <th>Sentence</th>\n",
       "    </tr>\n",
       "  </thead>\n",
       "  <tbody>\n",
       "    <tr>\n",
       "      <th>0</th>\n",
       "      <td>188</td>\n",
       "      <td>Other</td>\n",
       "      <td>cho mình xin bài nhạc tên là gì với ạ</td>\n",
       "    </tr>\n",
       "    <tr>\n",
       "      <th>1</th>\n",
       "      <td>166</td>\n",
       "      <td>Disgust</td>\n",
       "      <td>cho đáng đời con quỷ . về nhà lôi con nhà mày ...</td>\n",
       "    </tr>\n",
       "    <tr>\n",
       "      <th>2</th>\n",
       "      <td>1345</td>\n",
       "      <td>Disgust</td>\n",
       "      <td>lo học đi . yêu đương lol gì hay lại thích học...</td>\n",
       "    </tr>\n",
       "    <tr>\n",
       "      <th>3</th>\n",
       "      <td>316</td>\n",
       "      <td>Enjoyment</td>\n",
       "      <td>uớc gì sau này về già vẫn có thể như cụ này :))</td>\n",
       "    </tr>\n",
       "    <tr>\n",
       "      <th>4</th>\n",
       "      <td>1225</td>\n",
       "      <td>Enjoyment</td>\n",
       "      <td>mỗi lần có video của con là cứ coi đi coi lại ...</td>\n",
       "    </tr>\n",
       "    <tr>\n",
       "      <th>...</th>\n",
       "      <td>...</td>\n",
       "      <td>...</td>\n",
       "      <td>...</td>\n",
       "    </tr>\n",
       "    <tr>\n",
       "      <th>5543</th>\n",
       "      <td>1332</td>\n",
       "      <td>Disgust</td>\n",
       "      <td>đường của nhà cụ hay sao mà cụ cấm người ta đỗ...</td>\n",
       "    </tr>\n",
       "    <tr>\n",
       "      <th>5544</th>\n",
       "      <td>825</td>\n",
       "      <td>Other</td>\n",
       "      <td>nhìn mặt héo queo luôn</td>\n",
       "    </tr>\n",
       "    <tr>\n",
       "      <th>5545</th>\n",
       "      <td>165</td>\n",
       "      <td>Other</td>\n",
       "      <td>tao đi xe máy mỗi lần muốn để xe đi đâu là phi...</td>\n",
       "    </tr>\n",
       "    <tr>\n",
       "      <th>5546</th>\n",
       "      <td>363</td>\n",
       "      <td>Enjoyment</td>\n",
       "      <td>thích thân hình boss rồi nhan 😌</td>\n",
       "    </tr>\n",
       "    <tr>\n",
       "      <th>5547</th>\n",
       "      <td>1242</td>\n",
       "      <td>Sadness</td>\n",
       "      <td>ước mơ nhỏ nhoi của tao là được làm chị mà khô...</td>\n",
       "    </tr>\n",
       "  </tbody>\n",
       "</table>\n",
       "<p>5548 rows × 3 columns</p>\n",
       "</div>"
      ],
      "text/plain": [
       "      Unnamed: 0    Emotion                                           Sentence\n",
       "0            188      Other              cho mình xin bài nhạc tên là gì với ạ\n",
       "1            166    Disgust  cho đáng đời con quỷ . về nhà lôi con nhà mày ...\n",
       "2           1345    Disgust  lo học đi . yêu đương lol gì hay lại thích học...\n",
       "3            316  Enjoyment    uớc gì sau này về già vẫn có thể như cụ này :))\n",
       "4           1225  Enjoyment  mỗi lần có video của con là cứ coi đi coi lại ...\n",
       "...          ...        ...                                                ...\n",
       "5543        1332    Disgust  đường của nhà cụ hay sao mà cụ cấm người ta đỗ...\n",
       "5544         825      Other                             nhìn mặt héo queo luôn\n",
       "5545         165      Other  tao đi xe máy mỗi lần muốn để xe đi đâu là phi...\n",
       "5546         363  Enjoyment                    thích thân hình boss rồi nhan 😌\n",
       "5547        1242    Sadness  ước mơ nhỏ nhoi của tao là được làm chị mà khô...\n",
       "\n",
       "[5548 rows x 3 columns]"
      ]
     },
     "execution_count": 6,
     "metadata": {},
     "output_type": "execute_result"
    }
   ],
   "source": [
    "df_train"
   ]
  },
  {
   "cell_type": "code",
   "execution_count": 1,
   "id": "ab4e4e8d",
   "metadata": {},
   "outputs": [],
   "source": [
    "# Display emotion distribution\n",
    "if 'df_train' in locals():\n",
    "    print(\"Emotion Distribution:\")\n",
    "    print(df_train['Emotion'].value_counts())"
   ]
  },
  {
   "cell_type": "code",
   "execution_count": 2,
   "id": "4f4044a5",
   "metadata": {},
   "outputs": [],
   "source": [
    "# Plot emotion distribution\n",
    "if 'df_train' in locals():\n",
    "    plt.figure(figsize=(10, 6))\n",
    "    sns.countplot(x='Emotion', data=df_train, palette='Set2')\n",
    "    plt.title('Biểu đồ phân phối các nhãn cảm xúc trong tập dữ liệu huấn luyện')\n",
    "    plt.xlabel('Emotion')\n",
    "    plt.ylabel('Số lượng')\n",
    "    plt.xticks(rotation=45)\n",
    "\n",
    "    # Save plot using config path\n",
    "    fig_path = os.path.join(config.paths.figures_dir, 'Static_emotion.png')\n",
    "    plt.savefig(fig_path, dpi=300, bbox_inches='tight')\n",
    "    plt.show()"
   ]
  },
  {
   "cell_type": "code",
   "execution_count": 20,
   "id": "1648dfbb",
   "metadata": {},
   "outputs": [
    {
     "name": "stdout",
     "output_type": "stream",
     "text": [
      "Sample cleaned text:\n",
      "0                cho mình xin bài nhạc tên là gì với ạ\n",
      "1    cho đáng đời con quỷ về nhà lôi con nhà mày ra...\n",
      "Name: cleaned_text, dtype: object\n"
     ]
    }
   ],
   "source": [
    "import sys\n",
    "import os\n",
    "\n",
    "# Thêm project root vào sys.path\n",
    "project_root = os.path.abspath(os.path.join(os.getcwd(), '..'))\n",
    "if project_root not in sys.path:\n",
    "    sys.path.append(project_root)\n",
    "\n",
    "from src.preprocess.preprocess_data import clean_doc\n",
    "\n",
    "# Clean text data\n",
    "df_train['cleaned_text'] = df_train['Sentence'].apply(clean_doc)\n",
    "print(\"Sample cleaned text:\")\n",
    "#in dòng 2\n",
    "print(df_train['cleaned_text'].head(2))\n",
    "\n"
   ]
  },
  {
   "cell_type": "code",
   "execution_count": 19,
   "id": "9780a1a4",
   "metadata": {},
   "outputs": [
    {
     "data": {
      "text/plain": [
       "0                cho mình xin bài nhạc tên là gì với ạ\n",
       "1    cho đáng đời con quỷ . về nhà lôi con nhà mày ...\n",
       "2    lo học đi . yêu đương lol gì hay lại thích học...\n",
       "3      uớc gì sau này về già vẫn có thể như cụ này :))\n",
       "4    mỗi lần có video của con là cứ coi đi coi lại ...\n",
       "Name: Sentence, dtype: object"
      ]
     },
     "execution_count": 19,
     "metadata": {},
     "output_type": "execute_result"
    }
   ],
   "source": [
    "df_train['Sentence'].head()"
   ]
  }
 ],
 "metadata": {
  "kernelspec": {
   "display_name": "base",
   "language": "python",
   "name": "python3"
  },
  "language_info": {
   "codemirror_mode": {
    "name": "ipython",
    "version": 3
   },
   "file_extension": ".py",
   "mimetype": "text/x-python",
   "name": "python",
   "nbconvert_exporter": "python",
   "pygments_lexer": "ipython3",
   "version": "3.12.7"
  }
 },
 "nbformat": 4,
 "nbformat_minor": 5
}
